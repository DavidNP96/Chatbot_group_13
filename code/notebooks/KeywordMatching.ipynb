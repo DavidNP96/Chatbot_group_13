{
 "cells": [
  {
   "cell_type": "code",
   "execution_count": 1,
   "metadata": {},
   "outputs": [],
   "source": [
    "import numpy as np\n",
    "import random\n",
    "import sklearn.metrics as skm\n",
    "from operator import itemgetter"
   ]
  },
  {
   "cell_type": "code",
   "execution_count": 2,
   "metadata": {},
   "outputs": [],
   "source": [
    "FILE_PATH = 'dialog_acts.dat'\n",
    "TRAIN_SPLIT = 0.85\n",
    "SEED = 42"
   ]
  },
  {
   "cell_type": "code",
   "execution_count": 3,
   "metadata": {},
   "outputs": [],
   "source": [
    "data = []\n",
    "X = []\n",
    "y = []\n",
    "with open(FILE_PATH, \"r\") as f:\n",
    "    for line in f:\n",
    "        sent = line.lower().split()\n",
    "        data.append([sent[0], sent[1:]])\n",
    "\n",
    "sents = [sent for label, sent in data]\n",
    "labels = [label for label, sent in data]        \n",
    "    \n",
    "train_size = int(len(data) * (TRAIN_SPLIT))\n",
    "train_sents = sents[:train_size]\n",
    "train_labels = labels[:train_size]\n",
    "test_sents = sents[train_size:]\n",
    "test_labels = labels[train_size:]\n",
    "\n",
    "train_data = list(zip(train_sents, train_labels))\n",
    "random.Random(SEED).shuffle(train_data)\n",
    "train_sents, train_labels = zip(*train_data)"
   ]
  },
  {
   "cell_type": "code",
   "execution_count": 34,
   "metadata": {
    "scrolled": false
   },
   "outputs": [
    {
     "name": "stdout",
     "output_type": "stream",
     "text": [
      "confirm\n"
     ]
    }
   ],
   "source": [
    "labels = ['inform', 'request', 'thankyou', 'reqalts', 'null', 'affirm', 'bye', \n",
    "'confirm', 'hello', 'negate', 'deny', 'repeat', 'ack', 'restart', 'reqmore']\n",
    "keywords = [['know', 'food', 'restaurant', 'town', 'part'],['number', 'phone', 'address', 'whats', 'code', 'post'],\n",
    "                     ['thanks', 'appreciate', 'thank'],['else', 'anything'],\n",
    "                     ['ah', 'uh', 'ugh', 'oh', 'noise', 'sil', 'unintelligible'], ['yes', 'true', 'correct',\n",
    "                      'affirmative', 'uh-huh', 'agree', 'acknowledge','concede', 'right', 'yea', 'yeah'],\n",
    "                     ['goodbye', 'bye', 'cya', 'farewell', 'laters'],['serve','priced','center'],\n",
    "                     ['hi', 'hey', 'hello', 'greetings'],['not','none','dont', 'wont','no', 'negative', 'false',\n",
    "                     'disagree', 'reject', 'wrong', 'want', 'incorrect'],['repeat', 'recur', 'echo', 'back'],\n",
    "                     ['okay', 'alright', 'ok', 'kay', 'um'],['start', 'reset', 'restart'],['more','other']]\n",
    "\n",
    "train_pred = []\n",
    "\n",
    "for sentence in range(0,len(train_sents)):\n",
    "    labels_counter = [['inform', 0], ['request', 0], ['thankyou', 0], ['reqalts', 0], ['null', 0],\n",
    "                      ['affirm', 0], ['bye', 0], ['confirm', 0], ['hello', 0], ['negate', 0], ['deny', 0], \n",
    "                        ['repeat', 0], ['ack', 0], ['restart', 0], ['reqmore', 0]]\n",
    "    for word in range(0,len(train_sents[sentence])):\n",
    "        for label_keywords in range(0,len(keywords)):\n",
    "            for keyword in keywords[label_keywords]:\n",
    "                if keyword == train_sents[sentence][word]:\n",
    "                    labels_counter[label_keywords][1] += 1\n",
    "    mx = max(labels_counter, key=itemgetter(1))\n",
    "    maxes = [ele for ele in labels_counter if ele[1] == mx[1]]\n",
    "    if len(maxes) == 1:\n",
    "        train_pred.append(maxes[0][0])\n",
    "    else:\n",
    "        filled = False\n",
    "        for l in range(0,len(labels)):\n",
    "            for m in range(0,len(maxes)):\n",
    "                if maxes[m][0] == labels[l] and filled == False:\n",
    "                    train_pred.append(labels[l])\n",
    "                    filled = True"
   ]
  },
  {
   "cell_type": "code",
   "execution_count": 35,
   "metadata": {},
   "outputs": [
    {
     "data": {
      "text/plain": [
       "0.8138869665513264"
      ]
     },
     "execution_count": 35,
     "metadata": {},
     "output_type": "execute_result"
    }
   ],
   "source": [
    "skm.accuracy_score(train_labels, train_pred)"
   ]
  },
  {
   "cell_type": "code",
   "execution_count": 36,
   "metadata": {},
   "outputs": [
    {
     "name": "stdout",
     "output_type": "stream",
     "text": [
      "('affirm', 'thankyou', 'request', 'inform', 'null', 'inform', 'inform', 'null', 'affirm', 'inform')\n",
      "['right']\n",
      "['thank', 'you', 'good', 'bye']\n",
      "['phone', 'number']\n",
      "['lets', 'see', 'im', 'looking', 'for', 'a', 'restaurant', 'in', 'the', 'north', 'part', 'of', 'town', 'that', 'serves', 'vietnamese', 'food']\n",
      "['noise']\n",
      "['korean']\n",
      "['moderately', 'priced']\n",
      "['unintelligible']\n",
      "['right']\n",
      "['jamaican']\n"
     ]
    }
   ],
   "source": [
    "print(train_labels[0:10])\n",
    "for i in train_sents[0:10]:\n",
    "    print(i)"
   ]
  },
  {
   "cell_type": "code",
   "execution_count": 37,
   "metadata": {},
   "outputs": [
    {
     "name": "stdout",
     "output_type": "stream",
     "text": [
      "['affirm', 'thankyou', 'request', 'inform', 'null', 'inform', 'confirm', 'null', 'affirm', 'inform']\n"
     ]
    }
   ],
   "source": [
    "print(train_pred[0:10])"
   ]
  },
  {
   "cell_type": "code",
   "execution_count": null,
   "metadata": {},
   "outputs": [],
   "source": []
  }
 ],
 "metadata": {
  "kernelspec": {
   "display_name": "Python 3",
   "language": "python",
   "name": "python3"
  },
  "language_info": {
   "codemirror_mode": {
    "name": "ipython",
    "version": 3
   },
   "file_extension": ".py",
   "mimetype": "text/x-python",
   "name": "python",
   "nbconvert_exporter": "python",
   "pygments_lexer": "ipython3",
   "version": "3.7.3"
  }
 },
 "nbformat": 4,
 "nbformat_minor": 2
}
