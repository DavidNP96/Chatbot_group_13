{
 "cells": [
  {
   "cell_type": "code",
   "execution_count": null,
   "source": [
    "import numpy as np\r\n",
    "import random\r\n",
    "import sklearn.metrics as skm\r\n",
    "from operator import itemgetter"
   ],
   "outputs": [],
   "metadata": {}
  },
  {
   "cell_type": "code",
   "execution_count": null,
   "source": [
    "FILE_PATH = 'dialog_acts.dat'\r\n",
    "TRAIN_SPLIT = 0.85\r\n",
    "SEED = 42"
   ],
   "outputs": [],
   "metadata": {}
  },
  {
   "cell_type": "code",
   "execution_count": 3,
   "source": [
    "data = []\r\n",
    "X = []\r\n",
    "y = []\r\n",
    "with open(FILE_PATH, \"r\") as f:\r\n",
    "    for line in f:\r\n",
    "        sent = line.lower().split()\r\n",
    "        data.append([sent[0], sent[1:]])\r\n",
    "\r\n",
    "sents = [sent for label, sent in data]\r\n",
    "labels = [label for label, sent in data]        \r\n",
    "    \r\n",
    "train_size = int(len(data) * (TRAIN_SPLIT))\r\n",
    "train_sents = sents[:train_size]\r\n",
    "train_labels = labels[:train_size]\r\n",
    "test_sents = sents[train_size:]\r\n",
    "test_labels = labels[train_size:]\r\n",
    "\r\n",
    "train_data = list(zip(train_sents, train_labels))\r\n",
    "random.Random(SEED).shuffle(train_data)\r\n",
    "train_sents, train_labels = zip(*train_data)"
   ],
   "outputs": [],
   "metadata": {}
  },
  {
   "cell_type": "code",
   "execution_count": 34,
   "source": [
    "labels = ['inform', 'request', 'thankyou', 'reqalts', 'null', 'affirm', 'bye', \r\n",
    "'confirm', 'hello', 'negate', 'deny', 'repeat', 'ack', 'restart', 'reqmore']\r\n",
    "keywords = [['know', 'food', 'restaurant', 'town', 'part'],['number', 'phone', 'address', 'whats', 'code', 'post'],\r\n",
    "                     ['thanks', 'appreciate', 'thank'],['else', 'anything'],\r\n",
    "                     ['ah', 'uh', 'ugh', 'oh', 'noise', 'sil', 'unintelligible'], ['yes', 'true', 'correct',\r\n",
    "                      'affirmative', 'uh-huh', 'agree', 'acknowledge','concede', 'right', 'yea', 'yeah'],\r\n",
    "                     ['goodbye', 'bye', 'cya', 'farewell', 'laters'],['serve','priced','center'],\r\n",
    "                     ['hi', 'hey', 'hello', 'greetings'],['not','none','dont', 'wont','no', 'negative', 'false',\r\n",
    "                     'disagree', 'reject', 'wrong', 'want', 'incorrect'],['repeat', 'recur', 'echo', 'back'],\r\n",
    "                     ['okay', 'alright', 'ok', 'kay', 'um'],['start', 'reset', 'restart'],['more','other']]\r\n",
    "\r\n",
    "train_pred = []\r\n",
    "\r\n",
    "for sentence in range(0,len(train_sents)):\r\n",
    "    labels_counter = [['inform', 0], ['request', 0], ['thankyou', 0], ['reqalts', 0], ['null', 0],\r\n",
    "                      ['affirm', 0], ['bye', 0], ['confirm', 0], ['hello', 0], ['negate', 0], ['deny', 0], \r\n",
    "                        ['repeat', 0], ['ack', 0], ['restart', 0], ['reqmore', 0]]\r\n",
    "    for word in range(0,len(train_sents[sentence])):\r\n",
    "        for label_keywords in range(0,len(keywords)):\r\n",
    "            for keyword in keywords[label_keywords]:\r\n",
    "                if keyword == train_sents[sentence][word]:\r\n",
    "                    labels_counter[label_keywords][1] += 1\r\n",
    "    mx = max(labels_counter, key=itemgetter(1))\r\n",
    "    maxes = [ele for ele in labels_counter if ele[1] == mx[1]]\r\n",
    "    if len(maxes) == 1:\r\n",
    "        train_pred.append(maxes[0][0])\r\n",
    "    else:\r\n",
    "        filled = False\r\n",
    "        for l in range(0,len(labels)):\r\n",
    "            for m in range(0,len(maxes)):\r\n",
    "                if maxes[m][0] == labels[l] and filled == False:\r\n",
    "                    train_pred.append(labels[l])\r\n",
    "                    filled = True"
   ],
   "outputs": [
    {
     "output_type": "stream",
     "name": "stdout",
     "text": [
      "confirm\n"
     ]
    }
   ],
   "metadata": {
    "scrolled": false
   }
  },
  {
   "cell_type": "code",
   "execution_count": 35,
   "source": [
    "skm.accuracy_score(train_labels, train_pred)"
   ],
   "outputs": [
    {
     "output_type": "execute_result",
     "data": {
      "text/plain": [
       "0.8138869665513264"
      ]
     },
     "metadata": {},
     "execution_count": 35
    }
   ],
   "metadata": {}
  },
  {
   "cell_type": "code",
   "execution_count": 36,
   "source": [
    "print(train_labels[0:10])\r\n",
    "for i in train_sents[0:10]:\r\n",
    "    print(i)"
   ],
   "outputs": [
    {
     "output_type": "stream",
     "name": "stdout",
     "text": [
      "('affirm', 'thankyou', 'request', 'inform', 'null', 'inform', 'inform', 'null', 'affirm', 'inform')\n",
      "['right']\n",
      "['thank', 'you', 'good', 'bye']\n",
      "['phone', 'number']\n",
      "['lets', 'see', 'im', 'looking', 'for', 'a', 'restaurant', 'in', 'the', 'north', 'part', 'of', 'town', 'that', 'serves', 'vietnamese', 'food']\n",
      "['noise']\n",
      "['korean']\n",
      "['moderately', 'priced']\n",
      "['unintelligible']\n",
      "['right']\n",
      "['jamaican']\n"
     ]
    }
   ],
   "metadata": {}
  },
  {
   "cell_type": "code",
   "execution_count": 37,
   "source": [
    "print(train_pred[0:10])"
   ],
   "outputs": [
    {
     "output_type": "stream",
     "name": "stdout",
     "text": [
      "['affirm', 'thankyou', 'request', 'inform', 'null', 'inform', 'confirm', 'null', 'affirm', 'inform']\n"
     ]
    }
   ],
   "metadata": {}
  },
  {
   "cell_type": "code",
   "execution_count": null,
   "source": [],
   "outputs": [],
   "metadata": {}
  }
 ],
 "metadata": {
  "kernelspec": {
   "name": "python3",
   "display_name": "Python 3.8.5 64-bit"
  },
  "language_info": {
   "codemirror_mode": {
    "name": "ipython",
    "version": 3
   },
   "file_extension": ".py",
   "mimetype": "text/x-python",
   "name": "python",
   "nbconvert_exporter": "python",
   "pygments_lexer": "ipython3",
   "version": "3.8.5"
  },
  "interpreter": {
   "hash": "2db524e06e9f5f4ffedc911c917cb75e12dbc923643829bf417064a77eb14d37"
  }
 },
 "nbformat": 4,
 "nbformat_minor": 2
}